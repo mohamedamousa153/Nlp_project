{
 "cells": [
  {
   "cell_type": "code",
   "execution_count": 23,
   "id": "9a68029c",
   "metadata": {},
   "outputs": [],
   "source": [
    "text = \"If you plan to use the MailAddress to validate the e-mail address, be aware that this approach accepts the display name part of the e-mail address as well, and that may not be exactly what you want to achieve. For example, it accepts   these strings as valid e-mail addresses: mohamedmousa@gmail.com\""
   ]
  },
  {
   "cell_type": "code",
   "execution_count": 24,
   "id": "b93466cc",
   "metadata": {},
   "outputs": [
    {
     "data": {
      "text/plain": [
       "'If you plan to use the MailAddress to validate the e-mail address, be aware that this approach accepts the display name part of the e-mail address as well, and that may not be exactly what you want to achieve. For example, it accepts   these strings as valid e-mail addresses: mohamedmousa@gmail.com'"
      ]
     },
     "execution_count": 24,
     "metadata": {},
     "output_type": "execute_result"
    }
   ],
   "source": [
    "text"
   ]
  },
  {
   "cell_type": "code",
   "execution_count": 25,
   "id": "d7eacdf1",
   "metadata": {},
   "outputs": [],
   "source": [
    "import re "
   ]
  },
  {
   "cell_type": "code",
   "execution_count": 26,
   "id": "8515752f",
   "metadata": {},
   "outputs": [],
   "source": [
    "s = re.search(r'\\b[A-Za-z0-9._%+-]+@[A-Za-z0-9.-]+\\.[A-Z|a-z]{2,}\\b',text)"
   ]
  },
  {
   "cell_type": "code",
   "execution_count": 27,
   "id": "163e93db",
   "metadata": {},
   "outputs": [
    {
     "name": "stdout",
     "output_type": "stream",
     "text": [
      "<re.Match object; span=(277, 299), match='mohamedmousa@gmail.com'>\n"
     ]
    }
   ],
   "source": [
    "print(s)"
   ]
  },
  {
   "cell_type": "code",
   "execution_count": 30,
   "id": "049553c0",
   "metadata": {},
   "outputs": [],
   "source": [
    "text2 = \"\"\"If you plan to use the MailAddress to validate the e-mail address, be aware that this approach accepts \n",
    "the display name part of the e-mail address as well, and that may not be exactly what you want to achieve. For example, it accepts  \n",
    "these strings as valid e-mail addresses: m7mdmwsy@gmaill.com number = +201117286882\"\"\""
   ]
  },
  {
   "cell_type": "code",
   "execution_count": 31,
   "id": "2b353f81",
   "metadata": {},
   "outputs": [
    {
     "name": "stdout",
     "output_type": "stream",
     "text": [
      "<re.Match object; span=(307, 320), match='+201117286882'>\n"
     ]
    }
   ],
   "source": [
    "s2 = re.search(r'\\+201[0125]+[0-9]+',text2)\n",
    "print(s2)"
   ]
  },
  {
   "cell_type": "code",
   "execution_count": null,
   "id": "eda91ce6",
   "metadata": {},
   "outputs": [],
   "source": [
    "\n"
   ]
  },
  {
   "cell_type": "code",
   "execution_count": null,
   "id": "b47da2c9",
   "metadata": {},
   "outputs": [],
   "source": []
  }
 ],
 "metadata": {
  "kernelspec": {
   "display_name": "Python 3",
   "language": "python",
   "name": "python3"
  },
  "language_info": {
   "codemirror_mode": {
    "name": "ipython",
    "version": 3
   },
   "file_extension": ".py",
   "mimetype": "text/x-python",
   "name": "python",
   "nbconvert_exporter": "python",
   "pygments_lexer": "ipython3",
   "version": "3.8.8"
  }
 },
 "nbformat": 4,
 "nbformat_minor": 5
}
